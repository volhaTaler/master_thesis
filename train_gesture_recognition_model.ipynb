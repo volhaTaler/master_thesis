{
  "nbformat": 4,
  "nbformat_minor": 0,
  "metadata": {
    "colab": {
      "provenance": []
    },
    "kernelspec": {
      "name": "python3",
      "display_name": "Python 3"
    },
    "language_info": {
      "name": "python"
    }
  },
  "cells": [
    {
      "cell_type": "code",
      "source": [
        "!pip install --upgrade scikit-learn\n"
      ],
      "metadata": {
        "id": "HnCKFSij48RY"
      },
      "execution_count": null,
      "outputs": []
    },
    {
      "cell_type": "code",
      "source": [
        "import pandas as pd\n",
        "import numpy as np\n",
        "import seaborn as sns\n",
        "\n",
        "from sklearn.svm import SVC\n",
        "from sklearn.model_selection import train_test_split\n",
        "from sklearn.preprocessing import StandardScaler\n",
        "from sklearn.preprocessing import Normalizer\n",
        "from sklearn.svm import LinearSVC\n",
        "from sklearn.pipeline import Pipeline\n",
        "from sklearn.metrics import accuracy_score\n",
        "\n",
        "import matplotlib.pyplot as plt\n",
        "from sklearn.metrics import ConfusionMatrixDisplay\n",
        "\n"
      ],
      "metadata": {
        "id": "2dJohVuHw62_"
      },
      "execution_count": null,
      "outputs": []
    },
    {
      "cell_type": "code",
      "source": [
        "from google.colab import drive\n",
        "drive.mount('/content/drive')"
      ],
      "metadata": {
        "colab": {
          "base_uri": "https://localhost:8080/"
        },
        "id": "5XIT-v_VzskI",
        "outputId": "30438e0c-f233-42dd-eda6-c15154be13d3"
      },
      "execution_count": null,
      "outputs": [
        {
          "output_type": "stream",
          "name": "stdout",
          "text": [
            "Drive already mounted at /content/drive; to attempt to forcibly remount, call drive.mount(\"/content/drive\", force_remount=True).\n"
          ]
        }
      ]
    },
    {
      "cell_type": "code",
      "source": [
        "\n",
        "dataset_full = pd.read_csv(\"/content/path/to/file.csv\", index_col=0)\n",
        "dataset_full.shape"
      ],
      "metadata": {
        "id": "5o0VuvbJBomy"
      },
      "execution_count": null,
      "outputs": []
    },
    {
      "cell_type": "code",
      "source": [
        "#shuffle the dataset\n",
        "dataset_full = dataset_full.sample(frac=1)\n",
        "dataset_full.head(5)"
      ],
      "metadata": {
        "id": "Brr2-AbBG4po"
      },
      "execution_count": null,
      "outputs": []
    },
    {
      "cell_type": "code",
      "source": [
        "dataset_full.iloc[:133]['target']"
      ],
      "metadata": {
        "id": "Cg_iDEIlHHrC"
      },
      "execution_count": null,
      "outputs": []
    },
    {
      "cell_type": "markdown",
      "source": [
        "Visualisation"
      ],
      "metadata": {
        "id": "_KsPxBfZnjfH"
      }
    },
    {
      "cell_type": "code",
      "execution_count": null,
      "metadata": {
        "id": "kugBaurxv9ko"
      },
      "outputs": [],
      "source": [
        "\n",
        "random_state = np.random.RandomState(0)\n",
        "#define train and test set\n",
        "X,Y = dataset_full.iloc[:,:132].values, dataset_full['target'].values\n",
        "X_train, X_test, y_train, y_test = train_test_split(X, Y, test_size=0.40, random_state=random_state)\n",
        "# scale and normalize\n",
        "\n",
        "pipeline = Pipeline([(\"Standard Scaling\", StandardScaler()),\n",
        "                     (\"Normalizing\", Normalizer()),\n",
        "                     (\"SVC\", SVC(kernel=\"poly\"))\n",
        "                     ])\n",
        "\n",
        "pipeline.fit(X_train, y_train)"
      ]
    },
    {
      "cell_type": "code",
      "source": [
        "from sklearn.metrics import PrecisionRecallDisplay\n",
        "\n",
        "display = PrecisionRecallDisplay.from_estimator(\n",
        "    pipeline, X_test, y_test, name=\"SVC\"\n",
        ")\n",
        "_ = display.ax_.set_title(\"2-class Precision-Recall curve\")"
      ],
      "metadata": {
        "id": "9rJpsHigkPPB"
      },
      "execution_count": null,
      "outputs": []
    },
    {
      "cell_type": "code",
      "source": [
        "y_score = pipeline.decision_function(X_test)\n",
        "\n",
        "display = PrecisionRecallDisplay.from_predictions(y_test, y_score, name=\"SVC\")\n",
        "_ = display.ax_.set_title(\"2-class Precision-Recall curve\")"
      ],
      "metadata": {
        "id": "zUWDYgYJl2UJ"
      },
      "execution_count": null,
      "outputs": []
    },
    {
      "cell_type": "code",
      "source": [
        "y_pred = pipeline.predict(X_test)\n",
        "accuracy = pipeline.score(X_test, y_test)\n",
        "print(\"Accuracy: \" , accuracy)\n",
        "print(\"RMS: %r \" % np.sqrt(np.mean((y_pred - y_test) ** 2)))"
      ],
      "metadata": {
        "id": "-QsDaci-wJMk"
      },
      "execution_count": null,
      "outputs": []
    },
    {
      "cell_type": "code",
      "source": [
        "print(accuracy_score(y_test, y_pred))\n",
        "print(accuracy_score(y_test, y_pred, normalize=False))"
      ],
      "metadata": {
        "id": "le3qHCJswZzr"
      },
      "execution_count": null,
      "outputs": []
    },
    {
      "cell_type": "code",
      "source": [
        "from sklearn.metrics import plot_confusion_matrix"
      ],
      "metadata": {
        "id": "ZVJoBTsW9JXR"
      },
      "execution_count": null,
      "outputs": []
    },
    {
      "cell_type": "code",
      "source": [
        "plot_confusion_matrix(pipeline, X_test, y_test)\n",
        "plt.show()"
      ],
      "metadata": {
        "id": "GvdIqQom9Q-7"
      },
      "execution_count": null,
      "outputs": []
    },
    {
      "cell_type": "markdown",
      "source": [
        "We have: true label: 0.0  338, 28\n",
        "                    1.0   29, 363\n",
        "                         0.0  1.0\n",
        "                         Predicted label  "
      ],
      "metadata": {
        "id": "zmwpZrmc6t1o"
      }
    },
    {
      "cell_type": "code",
      "source": [
        "conf_matrix = np.array([[338, 28],[29, 363]])\n",
        "conf_matrix"
      ],
      "metadata": {
        "id": "8HQtVK9T7I2i"
      },
      "execution_count": null,
      "outputs": []
    },
    {
      "cell_type": "code",
      "source": [
        "# Change figure size and increase dpi for better resolution\n",
        "plt.figure(figsize=(6,4), dpi=80)\n",
        "# Scale up the size of all text\n",
        "sns.set(font_scale = 1.1)\n",
        "\n",
        "# Plot Confusion Matrix using Seaborn heatmap()\n",
        "ax = sns.heatmap(conf_matrix, annot=True, fmt='d', )\n",
        "\n",
        "# set x-axis label and ticks.\n",
        "ax.set_xlabel(\"Predicted Gesture Category\", fontsize=14, labelpad=20)\n",
        "ax.xaxis.set_ticklabels(['trust-breaking', 'trust-building'])\n",
        "\n",
        "# set y-axis label and ticks\n",
        "ax.set_ylabel(\"Actual Gesture Category\", fontsize=14, labelpad=20)\n",
        "ax.yaxis.set_ticklabels(['trust-breaking', 'tust-building'])\n",
        "\n",
        "\n",
        "plt.show()"
      ],
      "metadata": {
        "id": "vnv4Ayzf33aS"
      },
      "execution_count": null,
      "outputs": []
    },
    {
      "cell_type": "code",
      "source": [
        "from joblib import dump\n",
        "import pickle\n",
        "\n",
        "dump(pipeline, \"gesture_model.joblib\")\n",
        "pickle.dump(pipeline, open('/content/drive/model.pkl', 'wb'))\n"
      ],
      "metadata": {
        "id": "H8AIrjav5R3M"
      },
      "execution_count": null,
      "outputs": []
    }
  ]
}