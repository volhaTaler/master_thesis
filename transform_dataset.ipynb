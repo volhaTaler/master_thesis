{
  "nbformat": 4,
  "nbformat_minor": 0,
  "metadata": {
    "colab": {
      "provenance": []
    },
    "kernelspec": {
      "name": "python3",
      "display_name": "Python 3"
    },
    "language_info": {
      "name": "python"
    }
  },
  "cells": [
    {
      "cell_type": "code",
      "source": [
        "!pip install mediapipe"
      ],
      "metadata": {
        "colab": {
          "base_uri": "https://localhost:8080/"
        },
        "id": "JqBSR0RNUbRF",
        "outputId": "2cca51f7-1ea3-4854-8360-00dcdaf2e6be"
      },
      "execution_count": null,
      "outputs": [
        {
          "output_type": "stream",
          "name": "stdout",
          "text": [
            "Collecting mediapipe\n",
            "  Downloading mediapipe-0.10.3-cp310-cp310-manylinux_2_17_x86_64.manylinux2014_x86_64.whl (33.5 MB)\n",
            "\u001b[2K     \u001b[90m━━━━━━━━━━━━━━━━━━━━━━━━━━━━━━━━━━━━━━━━\u001b[0m \u001b[32m33.5/33.5 MB\u001b[0m \u001b[31m23.5 MB/s\u001b[0m eta \u001b[36m0:00:00\u001b[0m\n",
            "\u001b[?25hRequirement already satisfied: absl-py in /usr/local/lib/python3.10/dist-packages (from mediapipe) (1.4.0)\n",
            "Requirement already satisfied: attrs>=19.1.0 in /usr/local/lib/python3.10/dist-packages (from mediapipe) (23.1.0)\n",
            "Requirement already satisfied: flatbuffers>=2.0 in /usr/local/lib/python3.10/dist-packages (from mediapipe) (23.5.26)\n",
            "Requirement already satisfied: matplotlib in /usr/local/lib/python3.10/dist-packages (from mediapipe) (3.7.1)\n",
            "Requirement already satisfied: numpy in /usr/local/lib/python3.10/dist-packages (from mediapipe) (1.23.5)\n",
            "Requirement already satisfied: opencv-contrib-python in /usr/local/lib/python3.10/dist-packages (from mediapipe) (4.8.0.76)\n",
            "Requirement already satisfied: protobuf<4,>=3.11 in /usr/local/lib/python3.10/dist-packages (from mediapipe) (3.20.3)\n",
            "Collecting sounddevice>=0.4.4 (from mediapipe)\n",
            "  Downloading sounddevice-0.4.6-py3-none-any.whl (31 kB)\n",
            "Requirement already satisfied: CFFI>=1.0 in /usr/local/lib/python3.10/dist-packages (from sounddevice>=0.4.4->mediapipe) (1.15.1)\n",
            "Requirement already satisfied: contourpy>=1.0.1 in /usr/local/lib/python3.10/dist-packages (from matplotlib->mediapipe) (1.1.0)\n",
            "Requirement already satisfied: cycler>=0.10 in /usr/local/lib/python3.10/dist-packages (from matplotlib->mediapipe) (0.11.0)\n",
            "Requirement already satisfied: fonttools>=4.22.0 in /usr/local/lib/python3.10/dist-packages (from matplotlib->mediapipe) (4.42.1)\n",
            "Requirement already satisfied: kiwisolver>=1.0.1 in /usr/local/lib/python3.10/dist-packages (from matplotlib->mediapipe) (1.4.5)\n",
            "Requirement already satisfied: packaging>=20.0 in /usr/local/lib/python3.10/dist-packages (from matplotlib->mediapipe) (23.1)\n",
            "Requirement already satisfied: pillow>=6.2.0 in /usr/local/lib/python3.10/dist-packages (from matplotlib->mediapipe) (9.4.0)\n",
            "Requirement already satisfied: pyparsing>=2.3.1 in /usr/local/lib/python3.10/dist-packages (from matplotlib->mediapipe) (3.1.1)\n",
            "Requirement already satisfied: python-dateutil>=2.7 in /usr/local/lib/python3.10/dist-packages (from matplotlib->mediapipe) (2.8.2)\n",
            "Requirement already satisfied: pycparser in /usr/local/lib/python3.10/dist-packages (from CFFI>=1.0->sounddevice>=0.4.4->mediapipe) (2.21)\n",
            "Requirement already satisfied: six>=1.5 in /usr/local/lib/python3.10/dist-packages (from python-dateutil>=2.7->matplotlib->mediapipe) (1.16.0)\n",
            "Installing collected packages: sounddevice, mediapipe\n",
            "Successfully installed mediapipe-0.10.3 sounddevice-0.4.6\n"
          ]
        }
      ]
    },
    {
      "cell_type": "code",
      "source": [
        "from google.colab import drive\n",
        "drive.mount('/content/drive')"
      ],
      "metadata": {
        "id": "AIDYF_xhUeuD"
      },
      "execution_count": null,
      "outputs": []
    },
    {
      "cell_type": "code",
      "source": [
        "\n",
        "dataset_positive_folder= \"/content/drive/path1\"\n",
        "dataset_negative_folder= \"/content/drive/path2\""
      ],
      "metadata": {
        "id": "Qh84qR7BU0Qs"
      },
      "execution_count": null,
      "outputs": []
    },
    {
      "cell_type": "code",
      "execution_count": null,
      "metadata": {
        "id": "jGCoBsfFUICK"
      },
      "outputs": [],
      "source": [
        "# code was partially adapted from https://www.analyticsvidhya.com/blog/2021/10/human-pose-estimation-using-machine-learning-in-python/\n",
        "import mediapipe as mp\n",
        "import cv2\n",
        "import time\n",
        "import numpy as np\n",
        "import pandas as pd\n",
        "import os\n",
        "mpPose = mp.solutions.pose\n",
        "pose = mpPose.Pose()\n",
        "mpDraw = mp.solutions.drawing_utils # For drawing keypoints\n",
        "points = mpPose.PoseLandmark # Landmarks\n",
        "path = dataset_positive_folder\n",
        "data = []\n",
        "for p in points:\n",
        "        x = str(p)[13:]\n",
        "        data.append(x + \"_x\")\n",
        "        data.append(x + \"_y\")\n",
        "        data.append(x + \"_z\")\n",
        "        data.append(x + \"_vis\")\n",
        "data = pd.DataFrame(columns = data)"
      ]
    },
    {
      "cell_type": "code",
      "source": [
        "from google.colab.patches import cv2_imshow"
      ],
      "metadata": {
        "id": "pynWbyibVmW8"
      },
      "execution_count": null,
      "outputs": []
    },
    {
      "cell_type": "code",
      "source": [
        "\n",
        "count = 0\n",
        "\n",
        "for image in os.listdir(path):\n",
        "        temp = []\n",
        "        img = cv2.imread(path + \"/\" + image)\n",
        "        imageWidth, imageHeight = img.shape[:2]\n",
        "        imgRGB = cv2.cvtColor(img, cv2.COLOR_BGR2RGB)\n",
        "        results = pose.process(imgRGB)\n",
        "        if results.pose_landmarks:\n",
        "                landmarks = results.pose_landmarks.landmark\n",
        "                for i,j in zip(points,landmarks):\n",
        "                        temp = temp + [j.x, j.y, j.z, j.visibility]\n",
        "                data.loc[count] = temp\n",
        "                count +=1\n",
        "        else:\n",
        "            print(image , \" has no landmarks\")\n",
        "data.to_csv(\"dataset_positive.csv\") # save the data as a csv file"
      ],
      "metadata": {
        "id": "oPZeXZQMUad6"
      },
      "execution_count": null,
      "outputs": []
    },
    {
      "cell_type": "markdown",
      "source": [
        "Open dataset\n",
        "Add y-label: 1 for positive and 0 for negative pose\n",
        "shuffle dataset"
      ],
      "metadata": {
        "id": "dPVo5XqMYLRR"
      }
    },
    {
      "cell_type": "code",
      "source": [
        "import pandas as pd\n",
        "df = pd.read_csv('dataset_positive.csv', sep=',', index_col=0 )\n",
        "df.head()"
      ],
      "metadata": {
        "id": "3UPcuSZTYKn4"
      },
      "execution_count": null,
      "outputs": []
    },
    {
      "cell_type": "code",
      "source": [
        "print(df.columns)"
      ],
      "metadata": {
        "id": "rBMS8wb2YxWR"
      },
      "execution_count": null,
      "outputs": []
    },
    {
      "cell_type": "code",
      "source": [
        "array1 = np.ones(df.shape[0])\n",
        "array1"
      ],
      "metadata": {
        "id": "tXI9l_8bbCPp"
      },
      "execution_count": null,
      "outputs": []
    },
    {
      "cell_type": "code",
      "source": [
        "df.shape"
      ],
      "metadata": {
        "id": "-AoPx65V1zJs"
      },
      "execution_count": null,
      "outputs": []
    },
    {
      "cell_type": "code",
      "source": [
        "df['target'] = array1\n",
        "df.head()"
      ],
      "metadata": {
        "id": "MdV5g7atb1Dy"
      },
      "execution_count": null,
      "outputs": []
    },
    {
      "cell_type": "code",
      "source": [
        "# save positive dataset with y-label\n",
        "df.to_csv(\"dataset_positive_labeled.csv\") # save the data as a csv file"
      ],
      "metadata": {
        "id": "DOkNhIWgcSp7"
      },
      "execution_count": null,
      "outputs": []
    },
    {
      "cell_type": "code",
      "source": [
        "mpPose = mp.solutions.pose\n",
        "pose = mpPose.Pose()\n",
        "mpDraw = mp.solutions.drawing_utils # For drawing keypoints\n",
        "points = mpPose.PoseLandmark # Landmarks\n",
        "path = dataset_negative_folder\n",
        "data = []\n",
        "for p in points:\n",
        "        x = str(p)[13:]\n",
        "        data.append(x + \"_x\")\n",
        "        data.append(x + \"_y\")\n",
        "        data.append(x + \"_z\")\n",
        "        data.append(x + \"_vis\")\n",
        "data = pd.DataFrame(columns = data) # Empty dataset"
      ],
      "metadata": {
        "id": "hK2Yq90fXCqU"
      },
      "execution_count": null,
      "outputs": []
    },
    {
      "cell_type": "code",
      "source": [
        "count = 0\n",
        "\n",
        "for image in os.listdir(path):\n",
        "\n",
        "        temp = []\n",
        "        img = cv2.imread(path + \"/\" + image)\n",
        "        imageWidth, imageHeight = img.shape[:2]\n",
        "        imgRGB = cv2.cvtColor(img, cv2.COLOR_BGR2RGB)\n",
        "        results = pose.process(imgRGB)\n",
        "        if results.pose_landmarks:\n",
        "                landmarks = results.pose_landmarks.landmark\n",
        "                for i,j in zip(points,landmarks):\n",
        "                        temp = temp + [j.x, j.y, j.z, j.visibility]\n",
        "                data.loc[count] = temp\n",
        "                count +=1\n",
        "        else:\n",
        "          print(image , \" has bo landmarks\")\n"
      ],
      "metadata": {
        "id": "7RPhwRyiWt10"
      },
      "execution_count": null,
      "outputs": []
    },
    {
      "cell_type": "code",
      "source": [
        "data.shape"
      ],
      "metadata": {
        "id": "yPKofXjkTupX"
      },
      "execution_count": null,
      "outputs": []
    },
    {
      "cell_type": "code",
      "source": [
        "data.to_csv(\"dataset_negative.csv\") # save the data as a csv file"
      ],
      "metadata": {
        "id": "XrnW0pgpTBiR"
      },
      "execution_count": null,
      "outputs": []
    },
    {
      "cell_type": "markdown",
      "source": [
        "Add y-label: 1 for positive pose and 0 for negative pose."
      ],
      "metadata": {
        "id": "E40KGTTaXpWU"
      }
    },
    {
      "cell_type": "code",
      "source": [
        "df_negative = pd.read_csv('dataset_negative.csv', sep=',', index_col=0 )\n",
        "df_negative = df_negative.sample(frac=1).reset_index(drop=True)\n",
        "df_negative.head()\n",
        "\n"
      ],
      "metadata": {
        "id": "epPOHxhEcgK6"
      },
      "execution_count": null,
      "outputs": []
    },
    {
      "cell_type": "code",
      "source": [
        "df2 = df_negative.iloc[:df_negative.shape[0]].copy()"
      ],
      "metadata": {
        "id": "6WRHMiuHdPOs"
      },
      "execution_count": null,
      "outputs": []
    },
    {
      "cell_type": "code",
      "source": [
        "array0 = np.zeros(df2.shape[0])\n",
        "array0"
      ],
      "metadata": {
        "id": "DYG9h17RezXl"
      },
      "execution_count": null,
      "outputs": []
    },
    {
      "cell_type": "code",
      "source": [
        "print(df.shape)\n",
        "print(df2.shape)"
      ],
      "metadata": {
        "colab": {
          "base_uri": "https://localhost:8080/"
        },
        "id": "GUCGG_tne7NF",
        "outputId": "5e8596ba-5c4f-4e3b-e51c-47732b4a8f57"
      },
      "execution_count": null,
      "outputs": [
        {
          "output_type": "stream",
          "name": "stdout",
          "text": [
            "(921, 133)\n",
            "(854, 132)\n"
          ]
        }
      ]
    },
    {
      "cell_type": "code",
      "source": [
        "df2['target'] = array0\n",
        "df2.head()"
      ],
      "metadata": {
        "id": "zIiK6jytfJrW"
      },
      "execution_count": null,
      "outputs": []
    },
    {
      "cell_type": "code",
      "source": [
        "df2.to_csv(\"dataset_robot_negative_labeled.csv\") # save the data as a csv file"
      ],
      "metadata": {
        "id": "u04Ic2m8cPmL"
      },
      "execution_count": null,
      "outputs": []
    },
    {
      "cell_type": "markdown",
      "source": [
        "Combine two datasets to one"
      ],
      "metadata": {
        "id": "FKoAIO13ffV4"
      }
    },
    {
      "cell_type": "code",
      "source": [
        "frames = [df.iloc[:df2.shape[0]], df2]\n",
        "\n",
        "dataset_full = pd.concat(frames)\n",
        "dataset_full.head()"
      ],
      "metadata": {
        "id": "og-D0TpNfeuV"
      },
      "execution_count": null,
      "outputs": []
    },
    {
      "cell_type": "code",
      "source": [
        "dataset_full.shape"
      ],
      "metadata": {
        "id": "6fv-B77fE0Ll"
      },
      "execution_count": null,
      "outputs": []
    },
    {
      "cell_type": "code",
      "source": [
        "dataset_full.to_csv(\"dataset_full_labeled.csv\") # save the data as a csv file"
      ],
      "metadata": {
        "id": "BFqm-IFCgExg"
      },
      "execution_count": null,
      "outputs": []
    },
    {
      "cell_type": "code",
      "source": [
        "#dataset_full.shape\n",
        "dataset_shuffled= dataset_full.sample(frac=1).reset_index(drop=True)\n",
        "dataset_shuffled.head()"
      ],
      "metadata": {
        "id": "AMaFZWGZoJY0"
      },
      "execution_count": null,
      "outputs": []
    },
    {
      "cell_type": "code",
      "source": [
        "dataset_shuffled.to_csv(\"dataset_full_shuffled_labeled.csv\") # save the data as a csv file"
      ],
      "metadata": {
        "id": "VE-yD44Ng6Pu"
      },
      "execution_count": null,
      "outputs": []
    },
    {
      "cell_type": "markdown",
      "source": [],
      "metadata": {
        "id": "EufKmZpQXlrY"
      }
    }
  ]
}